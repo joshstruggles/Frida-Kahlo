{
 "cells": [
  {
   "cell_type": "markdown",
   "metadata": {
    "toc": true
   },
   "source": [
    "<h1>Table of Contents<span class=\"tocSkip\"></span></h1>\n",
    "<div class=\"toc\"><ul class=\"toc-item\"><li><span><a href=\"#Task-1\" data-toc-modified-id=\"Task-1-1\"><span class=\"toc-item-num\">1&nbsp;&nbsp;</span>Task 1</a></span></li><li><span><a href=\"#Task-2\" data-toc-modified-id=\"Task-2-2\"><span class=\"toc-item-num\">2&nbsp;&nbsp;</span>Task 2</a></span></li><li><span><a href=\"#Task-3\" data-toc-modified-id=\"Task-3-3\"><span class=\"toc-item-num\">3&nbsp;&nbsp;</span>Task 3</a></span></li><li><span><a href=\"#Task-4\" data-toc-modified-id=\"Task-4-4\"><span class=\"toc-item-num\">4&nbsp;&nbsp;</span>Task 4</a></span></li><li><span><a href=\"#Task-5\" data-toc-modified-id=\"Task-5-5\"><span class=\"toc-item-num\">5&nbsp;&nbsp;</span>Task 5</a></span></li><li><span><a href=\"#Task-6\" data-toc-modified-id=\"Task-6-6\"><span class=\"toc-item-num\">6&nbsp;&nbsp;</span>Task 6</a></span></li><li><span><a href=\"#Task-7\" data-toc-modified-id=\"Task-7-7\"><span class=\"toc-item-num\">7&nbsp;&nbsp;</span>Task 7</a></span></li><li><span><a href=\"#Task-8\" data-toc-modified-id=\"Task-8-8\"><span class=\"toc-item-num\">8&nbsp;&nbsp;</span>Task 8</a></span></li></ul></div>"
   ]
  },
  {
   "cell_type": "markdown",
   "metadata": {},
   "source": [
    "# Frida Kahlo Exhibition\n",
    "\n",
    "You've been hired to work on a retrospective of Frida Kahlo's work at a major museum. Your job is to put together the audio tour, but in order to do that you need to create a list of each painting featured in the exhibit, the date it was painted, and its spot in the tour. \n",
    "\n",
    "Use your knowledge of Python lists to create a master list of each painting, its date, and its audio tour ID. \n"
   ]
  },
  {
   "cell_type": "markdown",
   "metadata": {},
   "source": [
    "## Task 1\n",
    "First, create a list called `paintings` and add the following titles to it:\n",
    "\n",
    "`The Two Fridas, My Dress Hangs Here, Tree of Hope, Self Portrait With Monkeys`\n"
   ]
  },
  {
   "cell_type": "code",
   "execution_count": 1,
   "metadata": {},
   "outputs": [],
   "source": [
    "paintings = ['The Two Fridas', 'My Dress Hangs Here', 'Tree of Hope', 'Self Portrait With Monkeys']"
   ]
  },
  {
   "cell_type": "markdown",
   "metadata": {},
   "source": [
    "## Task 2\n",
    "\n",
    "Next, create a second list called `dates` and give it the following values:\n",
    "`1939, 1933, 1946, 1940`"
   ]
  },
  {
   "cell_type": "code",
   "execution_count": 2,
   "metadata": {},
   "outputs": [],
   "source": [
    "dates = [1939, 1933, 1946, 1940]"
   ]
  },
  {
   "cell_type": "markdown",
   "metadata": {},
   "source": [
    "## Task 3 \n",
    "It doesn't do much good to have the paintings without their dates, and vice versa. \n",
    "Zip together the two lists so that each painting is paired with its date and resave it to the `paintings` variable. Make sure to convert the zipped object into a list using the `list()` function. Print the results to the terminal to check your work. "
   ]
  },
  {
   "cell_type": "code",
   "execution_count": 3,
   "metadata": {},
   "outputs": [],
   "source": [
    "paintings = list(zip(paintings, dates))"
   ]
  },
  {
   "cell_type": "markdown",
   "metadata": {},
   "source": [
    "## Task 4\n",
    "There were some last minute additions to the show that we need to add to our list. Append the following paintings to our `paintings` list then re-print to check they were added correctly:\n",
    "- 'The Broken Column', 1944\n",
    "- 'The Wounded Deer', 1946\n",
    "- 'Me and My Doll', 1937\n",
    "\n",
    "Hint: Make sure to append each painting individually and that you're appending them as tuples, not lists. "
   ]
  },
  {
   "cell_type": "code",
   "execution_count": 6,
   "metadata": {},
   "outputs": [],
   "source": [
    "paintings.append(['The Broken Column', 1944])\n",
    "paintings.append(['The Wounded Deer', 1946])\n",
    "paintings.append(['Me and My Doll', 1937])"
   ]
  },
  {
   "cell_type": "markdown",
   "metadata": {},
   "source": [
    "## Task 5\n",
    "Since each of these paintings is going to be in the audio tour, they each need a unique identification number.\n",
    "But before we assign them a number, we first need to check how many paintings there are in total.\n",
    "\n",
    "Find the length of the `paintings` list."
   ]
  },
  {
   "cell_type": "code",
   "execution_count": 8,
   "metadata": {},
   "outputs": [
    {
     "data": {
      "text/plain": [
       "9"
      ]
     },
     "execution_count": 8,
     "metadata": {},
     "output_type": "execute_result"
    }
   ],
   "source": [
    "len(paintings)"
   ]
  },
  {
   "cell_type": "markdown",
   "metadata": {},
   "source": [
    "## Task 6\n",
    "Use the `range` method to generate a list of identification numbers that starts at 1 and is equal in length to our list of items. \n",
    "Save the list to the variable `audio_tour_number` and check your work by printing the list."
   ]
  },
  {
   "cell_type": "code",
   "execution_count": 9,
   "metadata": {},
   "outputs": [],
   "source": [
    "audio_tour_number = range(1,11,1)"
   ]
  },
  {
   "cell_type": "markdown",
   "metadata": {},
   "source": [
    "## Task 7 \n",
    "\n",
    "We're finally read to create our master list. \n",
    "Zip the `audio_tour_number` list to the `paintings` list and save it as `master_list`.\n",
    "\n",
    "Hint: Make sure to convert the zipped object into a list using the `list()` function."
   ]
  },
  {
   "cell_type": "code",
   "execution_count": 12,
   "metadata": {},
   "outputs": [],
   "source": [
    "master_list = zip(paintings,audio_tour_number)\n",
    "master_list = list(master_list)"
   ]
  },
  {
   "cell_type": "markdown",
   "metadata": {},
   "source": [
    "## Task 8 \n",
    "Print the `master_list` to the terminal."
   ]
  },
  {
   "cell_type": "code",
   "execution_count": 13,
   "metadata": {},
   "outputs": [
    {
     "name": "stdout",
     "output_type": "stream",
     "text": [
      "[(('The Two Fridas', 1939), 1), (('My Dress Hangs Here', 1933), 2), (('Tree of Hope', 1946), 3), (('Self Portrait With Monkeys', 1940), 4), (['The Broken Column', 1944], 5), (['The Wounded Deer', 1946], 6), (['The Broken Column', 1944], 7), (['The Wounded Deer', 1946], 8), (['Me and My Doll', 1937], 9)]\n"
     ]
    }
   ],
   "source": [
    "print(master_list)"
   ]
  },
  {
   "cell_type": "code",
   "execution_count": null,
   "metadata": {},
   "outputs": [],
   "source": []
  }
 ],
 "metadata": {
  "kernelspec": {
   "display_name": "Python 3",
   "language": "python",
   "name": "python3"
  },
  "language_info": {
   "codemirror_mode": {
    "name": "ipython",
    "version": 3
   },
   "file_extension": ".py",
   "mimetype": "text/x-python",
   "name": "python",
   "nbconvert_exporter": "python",
   "pygments_lexer": "ipython3",
   "version": "3.8.5"
  },
  "toc": {
   "base_numbering": 1,
   "nav_menu": {},
   "number_sections": true,
   "sideBar": true,
   "skip_h1_title": true,
   "title_cell": "Table of Contents",
   "title_sidebar": "Contents",
   "toc_cell": true,
   "toc_position": {},
   "toc_section_display": true,
   "toc_window_display": true
  }
 },
 "nbformat": 4,
 "nbformat_minor": 2
}
